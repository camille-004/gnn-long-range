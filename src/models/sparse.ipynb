{
 "cells": [
  {
   "cell_type": "code",
   "execution_count": 8,
   "metadata": {},
   "outputs": [],
   "source": [
    "import torch\n",
    "import numpy as np\n",
    "from torch_sparse import SparseTensor, spspmm"
   ]
  },
  {
   "cell_type": "code",
   "execution_count": 78,
   "metadata": {},
   "outputs": [
    {
     "name": "stdout",
     "output_type": "stream",
     "text": [
      "SparseTensor(row=tensor([0, 0, 0, 1, 3, 3]),\n",
      "             col=tensor([0, 1, 2, 0, 1, 2]),\n",
      "             size=(4, 4), nnz=6, density=37.50%)\n"
     ]
    }
   ],
   "source": [
    "edge_index = torch.LongTensor([[0, 0, 0, 1, 3, 3], [0, 1, 2, 0, 1, 2]])\n",
    "nodes = torch.max(edge_index).item() + 1\n",
    "sp1 = SparseTensor.from_edge_index(edge_index, sparse_sizes=(nodes, nodes))\n",
    "print(sp1)\n",
    "vl1 = torch.ones((edge_index.shape[1]))\n",
    "np.random.seed(1)\n",
    "dense = torch.from_numpy(np.random.randint(2, size=(4, 4), dtype=np.int64))\n",
    "sp2 = SparseTensor.from_dense(dense)\n",
    "vl2 = torch.ones((torch.count_nonzero(dense)))\n",
    "eix, val = spspmm(edge_index, vl1, edge_index, vl1, 4, 4, 4)\n"
   ]
  },
  {
   "cell_type": "code",
   "execution_count": 81,
   "metadata": {},
   "outputs": [
    {
     "name": "stdout",
     "output_type": "stream",
     "text": [
      "tensor([0, 0, 0, 1, 1, 1, 3]) tensor([2., 1., 1., 1., 1., 1., 1.])\n"
     ]
    },
    {
     "data": {
      "text/plain": [
       "[0, 3, 6, 7]"
      ]
     },
     "execution_count": 81,
     "metadata": {},
     "output_type": "execute_result"
    }
   ],
   "source": [
    "print(ei, val)\n",
    "ei = eix[0]\n",
    "ei_ = torch.cat([ei[0:1], ei[:-1]])\n",
    "\n",
    "cutpoints = torch.nonzero(ei - ei_).squeeze().tolist()\n",
    "cutpoints = [0] + cutpoints + [ei.shape[0]]\n",
    "cutpoints"
   ]
  },
  {
   "cell_type": "code",
   "execution_count": 65,
   "metadata": {},
   "outputs": [
    {
     "data": {
      "text/plain": [
       "[(tensor([[0, 0, 0],\n",
       "          [0, 1, 2]]),\n",
       "  tensor([2., 1., 1.])),\n",
       " (tensor([[1, 1, 1],\n",
       "          [0, 1, 2]]),\n",
       "  tensor([1., 1., 1.])),\n",
       " (tensor([[3],\n",
       "          [0]]),\n",
       "  tensor([1.]))]"
      ]
     },
     "execution_count": 65,
     "metadata": {},
     "output_type": "execute_result"
    }
   ],
   "source": [
    "adj_raw = [(ei[:, start:end], val[start:end]) for start, end in zip(cutpoints[:-1], cutpoints[1:])]\n",
    "adj_raw"
   ]
  },
  {
   "cell_type": "code",
   "execution_count": 75,
   "metadata": {},
   "outputs": [],
   "source": [
    "mean_value = [torch.mean(value) / 1. for data, value in adj_raw]\n",
    "adj_selected_raw = [data[:, value<mean] for (data, value), mean in zip(adj_raw, mean_value)]\n",
    "adj_selected = torch.cat(adj_selected_raw, dim=-1)"
   ]
  },
  {
   "cell_type": "code",
   "execution_count": 77,
   "metadata": {},
   "outputs": [
    {
     "data": {
      "text/plain": [
       "SparseTensor(row=tensor([0, 0]),\n",
       "             col=tensor([1, 2]),\n",
       "             size=(4, 4), nnz=2, density=12.50%)"
      ]
     },
     "execution_count": 77,
     "metadata": {},
     "output_type": "execute_result"
    }
   ],
   "source": [
    "SparseTensor.from_edge_index(adj_selected, sparse_sizes=(nodes, nodes))"
   ]
  }
 ],
 "metadata": {
  "kernelspec": {
   "display_name": "sognn",
   "language": "python",
   "name": "python3"
  },
  "language_info": {
   "codemirror_mode": {
    "name": "ipython",
    "version": 3
   },
   "file_extension": ".py",
   "mimetype": "text/x-python",
   "name": "python",
   "nbconvert_exporter": "python",
   "pygments_lexer": "ipython3",
   "version": "3.10.9"
  },
  "orig_nbformat": 4
 },
 "nbformat": 4,
 "nbformat_minor": 2
}
