{
 "cells": [
  {
   "attachments": {},
   "cell_type": "markdown",
   "metadata": {},
   "source": [
    "### 测试稀疏矩阵运算 $\\Leftarrow$ `SparseTensor, spspmm`"
   ]
  },
  {
   "cell_type": "code",
   "execution_count": 1,
   "metadata": {},
   "outputs": [
    {
     "name": "stderr",
     "output_type": "stream",
     "text": [
      "/home/lihao/hdd/anaconda3/envs/sognn/lib/python3.10/site-packages/tqdm/auto.py:22: TqdmWarning: IProgress not found. Please update jupyter and ipywidgets. See https://ipywidgets.readthedocs.io/en/stable/user_install.html\n",
      "  from .autonotebook import tqdm as notebook_tqdm\n"
     ]
    }
   ],
   "source": [
    "import torch\n",
    "import numpy as np\n",
    "from torch_sparse import SparseTensor, spspmm\n",
    "import pickle\n"
   ]
  },
  {
   "cell_type": "code",
   "execution_count": 6,
   "metadata": {},
   "outputs": [
    {
     "name": "stdout",
     "output_type": "stream",
     "text": [
      "SparseTensor(row=tensor([    0,     0,     0,  ..., 19714, 19715, 19716], device='cuda:0'),\n",
      "             col=tensor([ 1378,  1544,  6092,  ..., 12278,  4284, 16030], device='cuda:0'),\n",
      "             size=(19717, 19717), nnz=88649, density=0.02%)\n",
      "torch.float32\n"
     ]
    }
   ],
   "source": [
    "edge_index = pickle.load(open('./edge_index.pkl', 'rb'))\n",
    "nodes = torch.max(edge_index).item() + 1\n",
    "sp1 = SparseTensor.from_edge_index(edge_index, sparse_sizes=(nodes, nodes))\n",
    "print(sp1)\n",
    "vl1 = torch.ones((edge_index.shape[1])).cuda()\n",
    "np.random.seed(1)\n",
    "eix = edge_index.clone()\n",
    "val = vl1.clone()\n",
    "for _ in range(4):\n",
    "    eix, val = spspmm(eix, val, edge_index, vl1, nodes, nodes, nodes)\n",
    "print(val.dtype)"
   ]
  },
  {
   "cell_type": "code",
   "execution_count": 3,
   "metadata": {},
   "outputs": [
    {
     "data": {
      "text/plain": [
       "19718"
      ]
     },
     "execution_count": 3,
     "metadata": {},
     "output_type": "execute_result"
    }
   ],
   "source": [
    "\n",
    "ei = eix[0]\n",
    "ei_ = torch.cat([ei[0:1], ei[:-1]])\n",
    "\n",
    "cutpoints = torch.nonzero(ei - ei_).squeeze().tolist()\n",
    "cutpoints = [0] + cutpoints + [ei.shape[0]]\n",
    "len(cutpoints)"
   ]
  },
  {
   "cell_type": "code",
   "execution_count": 4,
   "metadata": {},
   "outputs": [
    {
     "data": {
      "text/plain": [
       "17951"
      ]
     },
     "execution_count": 4,
     "metadata": {},
     "output_type": "execute_result"
    }
   ],
   "source": [
    "adj_raw = [(eix[:, start:end], val[start:end]) for start, end in zip(cutpoints[:-1], cutpoints[1:])]\n",
    "a = 0\n",
    "for (data, val) in adj_raw:\n",
    "    a = max(len(val), a)\n",
    "a"
   ]
  },
  {
   "cell_type": "code",
   "execution_count": 75,
   "metadata": {},
   "outputs": [],
   "source": [
    "mean_value = [torch.mean(value) / 1. for data, value in adj_raw]\n",
    "adj_selected_raw = [data[:, value<mean] for (data, value), mean in zip(adj_raw, mean_value)]\n",
    "adj_selected = torch.cat(adj_selected_raw, dim=-1)"
   ]
  },
  {
   "cell_type": "code",
   "execution_count": 77,
   "metadata": {},
   "outputs": [
    {
     "data": {
      "text/plain": [
       "SparseTensor(row=tensor([0, 0]),\n",
       "             col=tensor([1, 2]),\n",
       "             size=(4, 4), nnz=2, density=12.50%)"
      ]
     },
     "execution_count": 77,
     "metadata": {},
     "output_type": "execute_result"
    }
   ],
   "source": [
    "SparseTensor.from_edge_index(adj_selected, sparse_sizes=(nodes, nodes))"
   ]
  },
  {
   "cell_type": "code",
   "execution_count": 12,
   "metadata": {},
   "outputs": [
    {
     "name": "stdout",
     "output_type": "stream",
     "text": [
      "tensor([0, 4, 8, 3, 1])\n"
     ]
    },
    {
     "data": {
      "text/plain": [
       "tensor([[1, 3, 2, 2, 2],\n",
       "        [1, 3, 2, 2, 2]])"
      ]
     },
     "execution_count": 12,
     "metadata": {},
     "output_type": "execute_result"
    }
   ],
   "source": [
    "a = torch.tensor([1, 3, 14, 2, 2, 15, 444, 31, 2])\n",
    "b = torch.tensor([[1, 3, 14, 2, 2, 15, 444, 31, 2],[1, 3, 14, 2, 2, 15, 444, 31, 2]])\n",
    "_, index = torch.topk(a, 5, largest=False)\n",
    "print(index)\n",
    "index = torch.sort(index).values\n",
    "b[:,index]"
   ]
  },
  {
   "cell_type": "code",
   "execution_count": null,
   "metadata": {},
   "outputs": [],
   "source": [
    "import torch\n",
    "edge_index = torch.tensor([[0, 0, 1, 2, 3, 4],[1, 2, 4, 3, 0, 0]])\n",
    "value = torch.tensor([0, 0, 1, 2, 3, 4])\n",
    "ei = edge_index[0]\n",
    "ei_ = torch.cat([ei[0:1], ei[:-1]])\n",
    "\n",
    "cutpoints = torch.nonzero(ei - ei_).squeeze().tolist()\n",
    "cutpoints = [0] + cutpoints + [ei.shape[0]]\n",
    "\n",
    "# 2. 切分spt\n",
    "adj_raw = [(edge_index[:, start:end], value[start:end]) \n",
    "            for start, end in zip(cutpoints[:-1], cutpoints[1:])]\n",
    "for (data, value) in adj_raw:\n",
    "    print(len(data[0]), len(value))\n",
    "    print(data, value)"
   ]
  },
  {
   "attachments": {},
   "cell_type": "markdown",
   "metadata": {},
   "source": [
    "### 测试plot_influence $\\Leftarrow$ `torch.autograd`"
   ]
  },
  {
   "cell_type": "code",
   "execution_count": 3,
   "metadata": {},
   "outputs": [
    {
     "name": "stderr",
     "output_type": "stream",
     "text": [
      "/home/lihao/hdd/anaconda3/envs/sognn/lib/python3.10/site-packages/tqdm/auto.py:22: TqdmWarning: IProgress not found. Please update jupyter and ipywidgets. See https://ipywidgets.readthedocs.io/en/stable/user_install.html\n",
      "  from .autonotebook import tqdm as notebook_tqdm\n"
     ]
    }
   ],
   "source": [
    "import torch\n",
    "from torch_sparse import SparseTensor\n",
    "from models.sognn import NodeLevelSOGNN\n",
    "from models.sognn_layer import SOGNNConv\n",
    "from models.gcn import NodeLevelGCN\n",
    "\n",
    "from models.utils import get_jacobian\n",
    "from torch_geometric.data import Data"
   ]
  },
  {
   "cell_type": "code",
   "execution_count": 8,
   "metadata": {},
   "outputs": [
    {
     "name": "stdout",
     "output_type": "stream",
     "text": [
      "3\n"
     ]
    }
   ],
   "source": [
    "edge_index = torch.LongTensor([\n",
    "    [0, 1, 2, 3, 3, 3, 3, 4, 5, 5, 5, 5, 6, 7, 7, 8, 8, 9],\n",
    "    [3, 3, 3, 0, 1, 2, 5, 5, 3, 4, 6, 7, 5, 5, 8, 7, 9, 8]\n",
    "])\n",
    "print(len(str(edge_index[0][1].item())))\n",
    "# value = torch.ones((edge_index.shape[1]))\n",
    "# x = torch.rand((10, 20), requires_grad=True)\n",
    "# data = Data(x, edge_index, value)\n",
    "# # y = x.clone()\n",
    "# adj_m = SparseTensor.from_edge_index(edge_index,sparse_sizes=(10, 10)).to_dense(dtype=torch.long)\n",
    "# adj_m_d = torch.matmul(adj_m, adj_m)\n",
    "# adj_m_d = torch.matmul(adj_m_d, adj_m)\n",
    "# adj_m_d_s = SparseTensor.from_dense(adj_m_d).cuda()\n",
    "# SOGNNConv.edge_index_distant = adj_m_d_s\n",
    "# sognn = NodeLevelSOGNN(20, 3, 10, 0, 0.5, 0.001, 0.01)\n",
    "# gcn = NodeLevelGCN(20, 3, 10, 0, 0.5, 0.001, 0.01)\n",
    "# for r in range(8):\n",
    "#     print(get_jacobian(sognn, data, 0, r))\n",
    "#     print(get_jacobian(gcn, data, 0, r))\n"
   ]
  },
  {
   "cell_type": "code",
   "execution_count": 2,
   "metadata": {},
   "outputs": [
    {
     "name": "stdout",
     "output_type": "stream",
     "text": [
      "None\n"
     ]
    }
   ],
   "source": [
    "a = [1, 3, 4]\n",
    "print(a.remove(3))"
   ]
  },
  {
   "attachments": {},
   "cell_type": "markdown",
   "metadata": {},
   "source": [
    "### 测试数据集"
   ]
  },
  {
   "cell_type": "code",
   "execution_count": 1,
   "metadata": {},
   "outputs": [
    {
     "name": "stderr",
     "output_type": "stream",
     "text": [
      "/home/lihao/hdd/anaconda3/envs/sognn/lib/python3.10/site-packages/tqdm/auto.py:22: TqdmWarning: IProgress not found. Please update jupyter and ipywidgets. See https://ipywidgets.readthedocs.io/en/stable/user_install.html\n",
      "  from .autonotebook import tqdm as notebook_tqdm\n"
     ]
    }
   ],
   "source": [
    "from torch_geometric.data import Data\n",
    "from torch_geometric.datasets import Planetoid\n",
    "from torch_geometric.loader import DataLoader\n",
    "import torch"
   ]
  },
  {
   "cell_type": "code",
   "execution_count": 5,
   "metadata": {},
   "outputs": [],
   "source": [
    "pubmed = Planetoid('../data/pubmed/', 'pubmed')\n",
    "data = DataLoader(pubmed, 4, shuffle=True)"
   ]
  },
  {
   "attachments": {},
   "cell_type": "markdown",
   "metadata": {},
   "source": [
    "### Networkx画图"
   ]
  },
  {
   "cell_type": "code",
   "execution_count": 2,
   "metadata": {},
   "outputs": [
    {
     "name": "stderr",
     "output_type": "stream",
     "text": [
      "/home/lihao/hdd/anaconda3/envs/sognn/lib/python3.10/site-packages/torch_geometric/data/storage.py:271: UserWarning: Unable to accurately infer 'num_nodes' from the attribute set '{'edge_index'}'. Please explicitly set 'num_nodes' as an attribute of 'data' to suppress this warning\n",
      "  warnings.warn(\n"
     ]
    }
   ],
   "source": [
    "import networkx as nx\n",
    "import pickle\n",
    "from torch_geometric.utils import to_networkx\n",
    "\n",
    "edge_index = pickle.load(open('./cora.pkl', 'rb'))\n",
    "pubmed = Data(edge_index=edge_index)\n",
    "G = to_networkx(pubmed)"
   ]
  },
  {
   "cell_type": "code",
   "execution_count": 19,
   "metadata": {},
   "outputs": [
    {
     "data": {
      "text/plain": [
       "654"
      ]
     },
     "execution_count": 19,
     "metadata": {},
     "output_type": "execute_result"
    }
   ],
   "source": [
    "path_lengths = nx.single_source_dijkstra_path_length(G, 0)\n",
    "r = 8\n",
    "[node for node, length in path_lengths.items() if length<=5].__len__()"
   ]
  }
 ],
 "metadata": {
  "kernelspec": {
   "display_name": "sognn",
   "language": "python",
   "name": "python3"
  },
  "language_info": {
   "codemirror_mode": {
    "name": "ipython",
    "version": 3
   },
   "file_extension": ".py",
   "mimetype": "text/x-python",
   "name": "python",
   "nbconvert_exporter": "python",
   "pygments_lexer": "ipython3",
   "version": "3.10.9"
  },
  "orig_nbformat": 4,
  "vscode": {
   "interpreter": {
    "hash": "11b95fb0c1098e89fb667bf209661fa9ffb668a036bfb3e6e1bea27de514d597"
   }
  }
 },
 "nbformat": 4,
 "nbformat_minor": 2
}
