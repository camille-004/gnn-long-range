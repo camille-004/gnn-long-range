{
 "cells": [
  {
   "attachments": {},
   "cell_type": "markdown",
   "metadata": {},
   "source": [
    "### 测试稀疏矩阵运算 $\\Leftarrow$ `SparseTensor, spspmm`"
   ]
  },
  {
   "cell_type": "code",
   "execution_count": 1,
   "metadata": {},
   "outputs": [
    {
     "name": "stderr",
     "output_type": "stream",
     "text": [
      "/home/lihao/hdd/anaconda3/envs/sognn/lib/python3.10/site-packages/tqdm/auto.py:22: TqdmWarning: IProgress not found. Please update jupyter and ipywidgets. See https://ipywidgets.readthedocs.io/en/stable/user_install.html\n",
      "  from .autonotebook import tqdm as notebook_tqdm\n"
     ]
    }
   ],
   "source": [
    "import torch\n",
    "import numpy as np\n",
    "from torch_sparse import SparseTensor, spspmm\n",
    "import pickle\n"
   ]
  },
  {
   "cell_type": "code",
   "execution_count": 6,
   "metadata": {},
   "outputs": [
    {
     "name": "stdout",
     "output_type": "stream",
     "text": [
      "SparseTensor(row=tensor([    0,     0,     0,  ..., 19714, 19715, 19716], device='cuda:0'),\n",
      "             col=tensor([ 1378,  1544,  6092,  ..., 12278,  4284, 16030], device='cuda:0'),\n",
      "             size=(19717, 19717), nnz=88649, density=0.02%)\n",
      "torch.float32\n"
     ]
    }
   ],
   "source": [
    "edge_index = pickle.load(open('./edge_index.pkl', 'rb'))\n",
    "nodes = torch.max(edge_index).item() + 1\n",
    "sp1 = SparseTensor.from_edge_index(edge_index, sparse_sizes=(nodes, nodes))\n",
    "print(sp1)\n",
    "vl1 = torch.ones((edge_index.shape[1])).cuda()\n",
    "np.random.seed(1)\n",
    "eix = edge_index.clone()\n",
    "val = vl1.clone()\n",
    "for _ in range(4):\n",
    "    eix, val = spspmm(eix, val, edge_index, vl1, nodes, nodes, nodes)\n",
    "print(val.dtype)"
   ]
  },
  {
   "cell_type": "code",
   "execution_count": 3,
   "metadata": {},
   "outputs": [
    {
     "data": {
      "text/plain": [
       "19718"
      ]
     },
     "execution_count": 3,
     "metadata": {},
     "output_type": "execute_result"
    }
   ],
   "source": [
    "\n",
    "ei = eix[0]\n",
    "ei_ = torch.cat([ei[0:1], ei[:-1]])\n",
    "\n",
    "cutpoints = torch.nonzero(ei - ei_).squeeze().tolist()\n",
    "cutpoints = [0] + cutpoints + [ei.shape[0]]\n",
    "len(cutpoints)"
   ]
  },
  {
   "cell_type": "code",
   "execution_count": 4,
   "metadata": {},
   "outputs": [
    {
     "data": {
      "text/plain": [
       "17951"
      ]
     },
     "execution_count": 4,
     "metadata": {},
     "output_type": "execute_result"
    }
   ],
   "source": [
    "adj_raw = [(eix[:, start:end], val[start:end]) for start, end in zip(cutpoints[:-1], cutpoints[1:])]\n",
    "a = 0\n",
    "for (data, val) in adj_raw:\n",
    "    a = max(len(val), a)\n",
    "a"
   ]
  },
  {
   "cell_type": "code",
   "execution_count": 75,
   "metadata": {},
   "outputs": [],
   "source": [
    "mean_value = [torch.mean(value) / 1. for data, value in adj_raw]\n",
    "adj_selected_raw = [data[:, value<mean] for (data, value), mean in zip(adj_raw, mean_value)]\n",
    "adj_selected = torch.cat(adj_selected_raw, dim=-1)"
   ]
  },
  {
   "cell_type": "code",
   "execution_count": 77,
   "metadata": {},
   "outputs": [
    {
     "data": {
      "text/plain": [
       "SparseTensor(row=tensor([0, 0]),\n",
       "             col=tensor([1, 2]),\n",
       "             size=(4, 4), nnz=2, density=12.50%)"
      ]
     },
     "execution_count": 77,
     "metadata": {},
     "output_type": "execute_result"
    }
   ],
   "source": [
    "SparseTensor.from_edge_index(adj_selected, sparse_sizes=(nodes, nodes))"
   ]
  },
  {
   "cell_type": "code",
   "execution_count": 12,
   "metadata": {},
   "outputs": [
    {
     "name": "stdout",
     "output_type": "stream",
     "text": [
      "tensor([0, 4, 8, 3, 1])\n"
     ]
    },
    {
     "data": {
      "text/plain": [
       "tensor([[1, 3, 2, 2, 2],\n",
       "        [1, 3, 2, 2, 2]])"
      ]
     },
     "execution_count": 12,
     "metadata": {},
     "output_type": "execute_result"
    }
   ],
   "source": [
    "a = torch.tensor([1, 3, 14, 2, 2, 15, 444, 31, 2])\n",
    "b = torch.tensor([[1, 3, 14, 2, 2, 15, 444, 31, 2],[1, 3, 14, 2, 2, 15, 444, 31, 2]])\n",
    "_, index = torch.topk(a, 5, largest=False)\n",
    "print(index)\n",
    "index = torch.sort(index).values\n",
    "b[:,index]"
   ]
  },
  {
   "cell_type": "code",
   "execution_count": null,
   "metadata": {},
   "outputs": [],
   "source": [
    "import torch\n",
    "edge_index = torch.tensor([[0, 0, 1, 2, 3, 4],[1, 2, 4, 3, 0, 0]])\n",
    "value = torch.tensor([0, 0, 1, 2, 3, 4])\n",
    "ei = edge_index[0]\n",
    "ei_ = torch.cat([ei[0:1], ei[:-1]])\n",
    "\n",
    "cutpoints = torch.nonzero(ei - ei_).squeeze().tolist()\n",
    "cutpoints = [0] + cutpoints + [ei.shape[0]]\n",
    "\n",
    "# 2. 切分spt\n",
    "adj_raw = [(edge_index[:, start:end], value[start:end]) \n",
    "            for start, end in zip(cutpoints[:-1], cutpoints[1:])]\n",
    "for (data, value) in adj_raw:\n",
    "    print(len(data[0]), len(value))\n",
    "    print(data, value)"
   ]
  },
  {
   "attachments": {},
   "cell_type": "markdown",
   "metadata": {},
   "source": [
    "### 测试plot_influence $\\Leftarrow$ `torch.autograd`"
   ]
  },
  {
   "cell_type": "code",
   "execution_count": 3,
   "metadata": {},
   "outputs": [
    {
     "name": "stderr",
     "output_type": "stream",
     "text": [
      "/home/lihao/hdd/anaconda3/envs/sognn/lib/python3.10/site-packages/tqdm/auto.py:22: TqdmWarning: IProgress not found. Please update jupyter and ipywidgets. See https://ipywidgets.readthedocs.io/en/stable/user_install.html\n",
      "  from .autonotebook import tqdm as notebook_tqdm\n"
     ]
    }
   ],
   "source": [
    "import torch\n",
    "from torch_sparse import SparseTensor\n",
    "from models.sognn import NodeLevelSOGNN\n",
    "from models.sognn_layer import SOGNNConv\n",
    "from models.gcn import NodeLevelGCN\n",
    "\n",
    "from models.utils import get_jacobian\n",
    "from torch_geometric.data import Data"
   ]
  },
  {
   "cell_type": "code",
   "execution_count": 8,
   "metadata": {},
   "outputs": [
    {
     "name": "stdout",
     "output_type": "stream",
     "text": [
      "3\n"
     ]
    }
   ],
   "source": [
    "edge_index = torch.LongTensor([\n",
    "    [0, 1, 2, 3, 3, 3, 3, 4, 5, 5, 5, 5, 6, 7, 7, 8, 8, 9],\n",
    "    [3, 3, 3, 0, 1, 2, 5, 5, 3, 4, 6, 7, 5, 5, 8, 7, 9, 8]\n",
    "])\n",
    "print(len(str(edge_index[0][1].item())))\n",
    "# value = torch.ones((edge_index.shape[1]))\n",
    "# x = torch.rand((10, 20), requires_grad=True)\n",
    "# data = Data(x, edge_index, value)\n",
    "# # y = x.clone()\n",
    "# adj_m = SparseTensor.from_edge_index(edge_index,sparse_sizes=(10, 10)).to_dense(dtype=torch.long)\n",
    "# adj_m_d = torch.matmul(adj_m, adj_m)\n",
    "# adj_m_d = torch.matmul(adj_m_d, adj_m)\n",
    "# adj_m_d_s = SparseTensor.from_dense(adj_m_d).cuda()\n",
    "# SOGNNConv.edge_index_distant = adj_m_d_s\n",
    "# sognn = NodeLevelSOGNN(20, 3, 10, 0, 0.5, 0.001, 0.01)\n",
    "# gcn = NodeLevelGCN(20, 3, 10, 0, 0.5, 0.001, 0.01)\n",
    "# for r in range(8):\n",
    "#     print(get_jacobian(sognn, data, 0, r))\n",
    "#     print(get_jacobian(gcn, data, 0, r))\n"
   ]
  },
  {
   "cell_type": "code",
   "execution_count": 2,
   "metadata": {},
   "outputs": [
    {
     "name": "stdout",
     "output_type": "stream",
     "text": [
      "None\n"
     ]
    }
   ],
   "source": [
    "a = [1, 3, 4]\n",
    "print(a.remove(3))"
   ]
  },
  {
   "attachments": {},
   "cell_type": "markdown",
   "metadata": {},
   "source": [
    "### 测试数据集"
   ]
  },
  {
   "cell_type": "code",
   "execution_count": 2,
   "metadata": {},
   "outputs": [],
   "source": [
    "from torch_geometric.data import Data\n",
    "from torch_geometric.datasets import Planetoid, WikipediaNetwork, WebKB\n",
    "from torch_geometric.loader import DataLoader\n",
    "import torch"
   ]
  },
  {
   "cell_type": "code",
   "execution_count": 3,
   "metadata": {},
   "outputs": [],
   "source": [
    "cornell = WebKB(root='../data', name='cornell')\n",
    "data = DataLoader(cornell, 4, shuffle=True)"
   ]
  },
  {
   "cell_type": "code",
   "execution_count": 6,
   "metadata": {},
   "outputs": [
    {
     "data": {
      "text/plain": [
       "tensor([[  0,   0,   1,   2,   2,   6,   6,   8,   8,   8,   8,   8,   9,  10,\n",
       "          10,  10,  10,  12,  13,  18,  19,  20,  20,  20,  20,  20,  21,  21,\n",
       "          21,  21,  22,  22,  24,  24,  24,  24,  24,  24,  24,  25,  25,  27,\n",
       "          27,  27,  28,  28,  29,  31,  33,  35,  41,  41,  42,  43,  48,  48,\n",
       "          52,  53,  53,  57,  57,  57,  57,  57,  57,  57,  57,  57,  57,  57,\n",
       "          57,  57,  57,  57,  57,  57,  57,  57,  57,  57,  57,  57,  57,  57,\n",
       "          57,  57,  57,  57,  57,  57,  57,  57,  57,  57,  57,  57,  57,  57,\n",
       "          57,  57,  57,  57,  57,  57,  57,  57,  57,  57,  57,  57,  57,  57,\n",
       "          57,  57,  57,  57,  57,  57,  57,  57,  57,  57,  57,  57,  57,  57,\n",
       "          57,  57,  57,  57,  57,  57,  57,  57,  57,  57,  57,  57,  57,  57,\n",
       "          57,  57,  57,  57,  57,  57,  57,  57,  57,  57,  57,  57,  62,  62,\n",
       "          63,  64,  65,  65,  66,  66,  66,  66,  66,  66,  66,  66,  66,  67,\n",
       "          67,  67,  67,  67,  67,  67,  67,  69,  70,  70,  72,  72,  73,  74,\n",
       "          78,  78,  82,  83,  83,  83,  83,  83,  83,  83,  85,  87,  89,  91,\n",
       "          94,  95,  96,  96,  96,  97,  97,  97,  97,  97,  99, 101, 101, 101,\n",
       "         101, 102, 104, 104, 105, 109, 109, 109, 110, 110, 115, 116, 117, 120,\n",
       "         120, 120, 121, 122, 122, 122, 125, 125, 126, 128, 129, 133, 133, 133,\n",
       "         134, 135, 135, 135, 137, 138, 138, 138, 138, 138, 146, 146, 146, 146,\n",
       "         146, 146, 146, 147, 149, 149, 149, 151, 151, 153, 154, 155, 159, 160,\n",
       "         161, 162, 162, 167, 167, 168, 168, 169, 169, 171, 171, 171, 171, 171,\n",
       "         171, 172, 173, 174, 175, 176, 176, 176, 176, 176, 176, 176, 176, 176,\n",
       "         176, 177, 179, 180],\n",
       "        [101, 122,  27,  75, 130, 109, 149,  28, 101, 109, 122, 158, 148,   5,\n",
       "         142, 154, 166,   7, 150,  96, 103,   8,  47, 101, 109, 158,  28,  41,\n",
       "         147, 180,  44,  92,   4,  28,  47,  68,  84, 139, 159,  30,  75,   1,\n",
       "          74,  97,  47,  84, 179, 158,  51,  79,  66,  67, 164, 104,  13, 157,\n",
       "          53,   5,  92,   1,   3,   5,   7,  11,  14,  15,  16,  17,  18,  24,\n",
       "          26,  29,  30,  31,  32,  33,  34,  37,  40,  41,  42,  43,  45,  46,\n",
       "          50,  53,  55,  58,  59,  60,  61,  68,  71,  72,  74,  76,  77,  80,\n",
       "          81,  82,  84,  86,  88,  89,  90,  95,  96,  98,  99, 100, 103, 104,\n",
       "         105, 106, 107, 108, 109, 110, 112, 113, 114, 116, 119, 123, 124, 127,\n",
       "         128, 131, 132, 135, 141, 144, 145, 147, 148, 153, 154, 155, 156, 157,\n",
       "         158, 160, 163, 164, 165, 168, 170, 174, 175, 177, 178, 182,  23, 118,\n",
       "          54, 135,   8, 158,   3,  30,  39,  49,  75, 130, 144, 146, 150,  13,\n",
       "          30,  49,  89, 140, 148, 165, 181,  93,  70,  96, 121, 172,  10,  27,\n",
       "          26, 143,  94,   3,  69,  93, 103, 129, 164, 174,  21, 174, 150,  27,\n",
       "          82,  43,  18, 121, 173,   3,  27, 118, 152, 165, 155,   6,   8, 109,\n",
       "         122,  82,  56,  79,  99,   6, 101, 122,  93, 150,  99, 111, 181,   1,\n",
       "         153, 160,  72,   6,   8, 109,  77, 175, 174, 128,  93,  66, 133, 146,\n",
       "          44,   5,  22,  64,  63,  69,  93, 118, 129, 164,   3,  30,  49,  66,\n",
       "          75, 130, 150, 158, 140, 148, 165,  36, 147, 160,   5,  99, 136, 153,\n",
       "           8,   5, 154,  63, 137,  99, 155,  38, 137,  23,  50,  69,  92,  93,\n",
       "         129,  72,  96,  93,  77,   4,   5,  38,  46,  57,  63, 137, 145, 153,\n",
       "         167, 118,  29,  93]])"
      ]
     },
     "execution_count": 6,
     "metadata": {},
     "output_type": "execute_result"
    }
   ],
   "source": [
    "data.dataset.data.edge_index"
   ]
  },
  {
   "attachments": {},
   "cell_type": "markdown",
   "metadata": {},
   "source": [
    "### Networkx画图"
   ]
  },
  {
   "cell_type": "code",
   "execution_count": 2,
   "metadata": {},
   "outputs": [
    {
     "name": "stderr",
     "output_type": "stream",
     "text": [
      "/home/lihao/hdd/anaconda3/envs/sognn/lib/python3.10/site-packages/torch_geometric/data/storage.py:271: UserWarning: Unable to accurately infer 'num_nodes' from the attribute set '{'edge_index'}'. Please explicitly set 'num_nodes' as an attribute of 'data' to suppress this warning\n",
      "  warnings.warn(\n"
     ]
    }
   ],
   "source": [
    "import networkx as nx\n",
    "import pickle\n",
    "from torch_geometric.utils import to_networkx\n",
    "\n",
    "edge_index = pickle.load(open('./cora.pkl', 'rb'))\n",
    "pubmed = Data(edge_index=edge_index)\n",
    "G = to_networkx(pubmed)"
   ]
  },
  {
   "cell_type": "code",
   "execution_count": 19,
   "metadata": {},
   "outputs": [
    {
     "data": {
      "text/plain": [
       "654"
      ]
     },
     "execution_count": 19,
     "metadata": {},
     "output_type": "execute_result"
    }
   ],
   "source": [
    "path_lengths = nx.single_source_dijkstra_path_length(G, 0)\n",
    "r = 8\n",
    "[node for node, length in path_lengths.items() if length<=5].__len__()"
   ]
  },
  {
   "attachments": {},
   "cell_type": "markdown",
   "metadata": {},
   "source": [
    "### 其他测试"
   ]
  },
  {
   "cell_type": "code",
   "execution_count": 6,
   "metadata": {},
   "outputs": [
    {
     "name": "stdout",
     "output_type": "stream",
     "text": [
      "r: 3\n",
      "a: 4\n",
      "b: hahaha\n",
      "3\n"
     ]
    }
   ],
   "source": [
    "def test(**kwargs):\n",
    "    for (key, value) in kwargs.items():\n",
    "        print(f\"{key}: {value}\")\n",
    "    print(kwargs['r'])\n",
    "test(r=3, a=4, b=\"hahaha\")"
   ]
  }
 ],
 "metadata": {
  "kernelspec": {
   "display_name": "sognn",
   "language": "python",
   "name": "python3"
  },
  "language_info": {
   "codemirror_mode": {
    "name": "ipython",
    "version": 3
   },
   "file_extension": ".py",
   "mimetype": "text/x-python",
   "name": "python",
   "nbconvert_exporter": "python",
   "pygments_lexer": "ipython3",
   "version": "3.10.9"
  },
  "orig_nbformat": 4,
  "vscode": {
   "interpreter": {
    "hash": "11b95fb0c1098e89fb667bf209661fa9ffb668a036bfb3e6e1bea27de514d597"
   }
  }
 },
 "nbformat": 4,
 "nbformat_minor": 2
}
