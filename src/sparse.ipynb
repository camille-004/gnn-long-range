{
 "cells": [
  {
   "attachments": {},
   "cell_type": "markdown",
   "metadata": {},
   "source": [
    "### 测试稀疏矩阵运算 $\\Leftarrow$ `SparseTensor, spspmm`"
   ]
  },
  {
   "cell_type": "code",
   "execution_count": 2,
   "metadata": {},
   "outputs": [
    {
     "name": "stderr",
     "output_type": "stream",
     "text": [
      "/home/lihao/hdd/anaconda3/envs/sognn/lib/python3.10/site-packages/tqdm/auto.py:22: TqdmWarning: IProgress not found. Please update jupyter and ipywidgets. See https://ipywidgets.readthedocs.io/en/stable/user_install.html\n",
      "  from .autonotebook import tqdm as notebook_tqdm\n"
     ]
    }
   ],
   "source": [
    "import torch\n",
    "import numpy as np\n",
    "from torch_sparse import SparseTensor, spspmm"
   ]
  },
  {
   "cell_type": "code",
   "execution_count": 78,
   "metadata": {},
   "outputs": [
    {
     "name": "stdout",
     "output_type": "stream",
     "text": [
      "SparseTensor(row=tensor([0, 0, 0, 1, 3, 3]),\n",
      "             col=tensor([0, 1, 2, 0, 1, 2]),\n",
      "             size=(4, 4), nnz=6, density=37.50%)\n"
     ]
    }
   ],
   "source": [
    "edge_index = torch.LongTensor([[0, 0, 0, 1, 3, 3], [0, 1, 2, 0, 1, 2]])\n",
    "nodes = torch.max(edge_index).item() + 1\n",
    "sp1 = SparseTensor.from_edge_index(edge_index, sparse_sizes=(nodes, nodes))\n",
    "print(sp1)\n",
    "vl1 = torch.ones((edge_index.shape[1]))\n",
    "np.random.seed(1)\n",
    "dense = torch.from_numpy(np.random.randint(2, size=(4, 4), dtype=np.int64))\n",
    "sp2 = SparseTensor.from_dense(dense)\n",
    "vl2 = torch.ones((torch.count_nonzero(dense)))\n",
    "eix, val = spspmm(edge_index, vl1, edge_index, vl1, 4, 4, 4)\n"
   ]
  },
  {
   "cell_type": "code",
   "execution_count": 81,
   "metadata": {},
   "outputs": [
    {
     "name": "stdout",
     "output_type": "stream",
     "text": [
      "tensor([0, 0, 0, 1, 1, 1, 3]) tensor([2., 1., 1., 1., 1., 1., 1.])\n"
     ]
    },
    {
     "data": {
      "text/plain": [
       "[0, 3, 6, 7]"
      ]
     },
     "execution_count": 81,
     "metadata": {},
     "output_type": "execute_result"
    }
   ],
   "source": [
    "print(ei, val)\n",
    "ei = eix[0]\n",
    "ei_ = torch.cat([ei[0:1], ei[:-1]])\n",
    "\n",
    "cutpoints = torch.nonzero(ei - ei_).squeeze().tolist()\n",
    "cutpoints = [0] + cutpoints + [ei.shape[0]]\n",
    "cutpoints"
   ]
  },
  {
   "cell_type": "code",
   "execution_count": 65,
   "metadata": {},
   "outputs": [
    {
     "data": {
      "text/plain": [
       "[(tensor([[0, 0, 0],\n",
       "          [0, 1, 2]]),\n",
       "  tensor([2., 1., 1.])),\n",
       " (tensor([[1, 1, 1],\n",
       "          [0, 1, 2]]),\n",
       "  tensor([1., 1., 1.])),\n",
       " (tensor([[3],\n",
       "          [0]]),\n",
       "  tensor([1.]))]"
      ]
     },
     "execution_count": 65,
     "metadata": {},
     "output_type": "execute_result"
    }
   ],
   "source": [
    "adj_raw = [(ei[:, start:end], val[start:end]) for start, end in zip(cutpoints[:-1], cutpoints[1:])]\n",
    "adj_raw"
   ]
  },
  {
   "cell_type": "code",
   "execution_count": 75,
   "metadata": {},
   "outputs": [],
   "source": [
    "mean_value = [torch.mean(value) / 1. for data, value in adj_raw]\n",
    "adj_selected_raw = [data[:, value<mean] for (data, value), mean in zip(adj_raw, mean_value)]\n",
    "adj_selected = torch.cat(adj_selected_raw, dim=-1)"
   ]
  },
  {
   "cell_type": "code",
   "execution_count": 77,
   "metadata": {},
   "outputs": [
    {
     "data": {
      "text/plain": [
       "SparseTensor(row=tensor([0, 0]),\n",
       "             col=tensor([1, 2]),\n",
       "             size=(4, 4), nnz=2, density=12.50%)"
      ]
     },
     "execution_count": 77,
     "metadata": {},
     "output_type": "execute_result"
    }
   ],
   "source": [
    "SparseTensor.from_edge_index(adj_selected, sparse_sizes=(nodes, nodes))"
   ]
  },
  {
   "cell_type": "code",
   "execution_count": 12,
   "metadata": {},
   "outputs": [
    {
     "name": "stdout",
     "output_type": "stream",
     "text": [
      "tensor([0, 4, 8, 3, 1])\n"
     ]
    },
    {
     "data": {
      "text/plain": [
       "tensor([[1, 3, 2, 2, 2],\n",
       "        [1, 3, 2, 2, 2]])"
      ]
     },
     "execution_count": 12,
     "metadata": {},
     "output_type": "execute_result"
    }
   ],
   "source": [
    "a = torch.tensor([1, 3, 14, 2, 2, 15, 444, 31, 2])\n",
    "b = torch.tensor([[1, 3, 14, 2, 2, 15, 444, 31, 2],[1, 3, 14, 2, 2, 15, 444, 31, 2]])\n",
    "_, index = torch.topk(a, 5, largest=False)\n",
    "print(index)\n",
    "index = torch.sort(index).values\n",
    "b[:,index]"
   ]
  },
  {
   "attachments": {},
   "cell_type": "markdown",
   "metadata": {},
   "source": [
    "### 测试plot_influence $\\Leftarrow$ `torch.autograd`"
   ]
  },
  {
   "cell_type": "code",
   "execution_count": 1,
   "metadata": {},
   "outputs": [
    {
     "name": "stderr",
     "output_type": "stream",
     "text": [
      "/home/lihao/hdd/anaconda3/envs/sognn/lib/python3.10/site-packages/tqdm/auto.py:22: TqdmWarning: IProgress not found. Please update jupyter and ipywidgets. See https://ipywidgets.readthedocs.io/en/stable/user_install.html\n",
      "  from .autonotebook import tqdm as notebook_tqdm\n"
     ]
    }
   ],
   "source": [
    "import torch\n",
    "from torch_sparse import SparseTensor\n",
    "from models.sognn import NodeLevelSOGNN\n",
    "from models.sognn_layer import SOGNNConv\n",
    "from models.gcn import NodeLevelGCN\n",
    "\n",
    "from models.utils import get_jacobian\n",
    "from torch_geometric.data import Data"
   ]
  },
  {
   "cell_type": "code",
   "execution_count": 3,
   "metadata": {},
   "outputs": [
    {
     "name": "stderr",
     "output_type": "stream",
     "text": [
      "/home/lihao/hdd/anaconda3/envs/sognn/lib/python3.10/site-packages/pytorch_lightning/utilities/seed.py:48: LightningDeprecationWarning: `pytorch_lightning.utilities.seed.seed_everything` has been deprecated in v1.8.0 and will be removed in v1.10.0. Please use `lightning_lite.utilities.seed.seed_everything` instead.\n",
      "  rank_zero_deprecation(\n",
      "Global seed set to 1\n",
      "/home/newdisk/lihao/sognn/src/models/sognn.py:40: UserWarning: Using ReLU activation function. Non-differentiableactivation may yield inaccurate influences.\n",
      "  warnings.warn(\n",
      "Global seed set to 1\n",
      "/home/newdisk/lihao/sognn/src/models/gcn.py:40: UserWarning: Using ReLU activation function. Non-differentiableactivation may yield inaccurate influences.\n",
      "  warnings.warn(\n"
     ]
    },
    {
     "name": "stdout",
     "output_type": "stream",
     "text": [
      "   influence  r\n",
      "0        1.0  0\n",
      "   influence  r\n",
      "0        1.0  0\n",
      "   influence  r\n",
      "0        1.0  1\n",
      "   influence  r\n",
      "0        1.0  1\n",
      "   influence  r\n",
      "0   0.055019  2\n",
      "1   0.055019  2\n",
      "2   0.889963  2\n",
      "   influence  r\n",
      "0   0.379873  2\n",
      "1   0.379873  2\n",
      "2   0.240253  2\n",
      "   influence  r\n",
      "0   0.241916  3\n",
      "1   0.343413  3\n",
      "2   0.414671  3\n",
      "   influence  r\n",
      "0        0.0  3\n",
      "1        0.0  3\n",
      "2        0.0  3\n",
      "   influence  r\n",
      "0        1.0  4\n",
      "   influence  r\n",
      "0        0.0  4\n",
      "   influence  r\n",
      "0        0.0  5\n",
      "   influence  r\n",
      "0        0.0  5\n",
      "Empty DataFrame\n",
      "Columns: [influence, r]\n",
      "Index: []\n",
      "Empty DataFrame\n",
      "Columns: [influence, r]\n",
      "Index: []\n",
      "Empty DataFrame\n",
      "Columns: [influence, r]\n",
      "Index: []\n",
      "Empty DataFrame\n",
      "Columns: [influence, r]\n",
      "Index: []\n"
     ]
    }
   ],
   "source": [
    "edge_index = torch.LongTensor([\n",
    "    [0, 1, 2, 3, 3, 3, 3, 4, 5, 5, 5, 5, 6, 7, 7, 8, 8, 9],\n",
    "    [3, 3, 3, 0, 1, 2, 5, 5, 3, 4, 6, 7, 5, 5, 8, 7, 9, 8]\n",
    "])\n",
    "value = torch.ones((edge_index.shape[1]))\n",
    "x = torch.rand((10, 20), requires_grad=True)\n",
    "data = Data(x, edge_index, value)\n",
    "# y = x.clone()\n",
    "adj_m = SparseTensor.from_edge_index(edge_index,sparse_sizes=(10, 10)).to_dense(dtype=torch.long)\n",
    "adj_m_d = torch.matmul(adj_m, adj_m)\n",
    "adj_m_d = torch.matmul(adj_m_d, adj_m)\n",
    "adj_m_d_s = SparseTensor.from_dense(adj_m_d).cuda()\n",
    "SOGNNConv.edge_index_distant = adj_m_d_s\n",
    "sognn = NodeLevelSOGNN(20, 3, 10, 0, 0.5, 0.001, 0.01)\n",
    "gcn = NodeLevelGCN(20, 3, 10, 0, 0.5, 0.001, 0.01)\n",
    "for r in range(8):\n",
    "    print(get_jacobian(sognn, data, 0, r))\n",
    "    print(get_jacobian(gcn, data, 0, r))\n"
   ]
  },
  {
   "cell_type": "code",
   "execution_count": 2,
   "metadata": {},
   "outputs": [
    {
     "name": "stdout",
     "output_type": "stream",
     "text": [
      "None\n"
     ]
    }
   ],
   "source": [
    "a = [1, 3, 4]\n",
    "print(a.remove(3))"
   ]
  }
 ],
 "metadata": {
  "kernelspec": {
   "display_name": "sognn",
   "language": "python",
   "name": "python3"
  },
  "language_info": {
   "codemirror_mode": {
    "name": "ipython",
    "version": 3
   },
   "file_extension": ".py",
   "mimetype": "text/x-python",
   "name": "python",
   "nbconvert_exporter": "python",
   "pygments_lexer": "ipython3",
   "version": "3.10.9"
  },
  "orig_nbformat": 4
 },
 "nbformat": 4,
 "nbformat_minor": 2
}
